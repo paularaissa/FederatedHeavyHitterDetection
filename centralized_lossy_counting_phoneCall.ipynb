{
 "cells": [
  {
   "cell_type": "markdown",
   "metadata": {
    "collapsed": false,
    "jupyter": {
     "outputs_hidden": false
    }
   },
   "source": [
    "# Centralized version"
   ]
  },
  {
   "cell_type": "code",
   "execution_count": null,
   "metadata": {
    "ExecuteTime": {
     "end_time": "2024-03-04T14:21:09.253465Z",
     "start_time": "2024-03-04T14:21:08.754019Z"
    },
    "collapsed": false,
    "jupyter": {
     "outputs_hidden": false
    }
   },
   "outputs": [],
   "source": [
    "#%load_ext autoreload\n",
    "#%autoreload 2\n",
    "\n",
    "import importlib\n",
    "import random\n",
    "import string\n",
    "from river import sketch\n",
    "from river import stream\n",
    "import pandas as pd\n",
    "import matplotlib.pyplot as plt\n",
    "from datetime import datetime\n",
    "import os\n",
    "\n",
    "#epilson influencia no tamanho da janela = 1/epilson\n",
    "#hh = sketch.HeavyHitters(fading_factor=1, epsilon=0.00025, support=0.00025) # Para window 4000\n",
    "#hh = sketch.HeavyHitters(fading_factor=1, epsilon=0.0002, support=0.0002) # Para window 5000\n",
    "hh = sketch.HeavyHitters(fading_factor=1, epsilon=0.0005, support=0.0005) # Para window 2000\n",
    "##hh = sketch.HeavyHitters(fading_factor=1, epsilon=0.001, support=0.001) # Para window 1000\n",
    "#hh = sketch.HeavyHitters(fading_factor=1, epsilon=0.000333, support=0.000333) # Para window 3000\n",
    "#hh = sketch.HeavyHitters(fading_factor=1, epsilon=0.000125, support=0.000125) # Para window 8000\n",
    "#hh = sketch.HeavyHitters(fading_factor=1, epsilon=0.0001, support=0.0001) # Para window 10000"
   ]
  },
  {
   "cell_type": "code",
   "execution_count": null,
   "metadata": {
    "ExecuteTime": {
     "end_time": "2024-03-04T14:27:09.484597Z",
     "start_time": "2024-03-04T14:21:15.930507Z"
    },
    "collapsed": false,
    "jupyter": {
     "outputs_hidden": false
    }
   },
   "outputs": [],
   "source": [
    "diretorio = \"/home/paula/ecml2024/communication_data_june\"\n",
    "\n",
    "nome_coluna = 'ANumber'\n",
    "\n",
    "most_common_iter_a = []\n",
    "\n",
    "df_bucket_a = pd.DataFrame(columns=['ANumber', 'Count', 'DateTime'])\n",
    "colunas = ['ANumber','BNumber','DateTime','Action','Result','CountryCode']\n",
    "window = 1\n",
    "\n",
    "# Verificar se o diretório existe antes de tentar abri-lo\n",
    "if os.path.exists(diretorio):\n",
    "    arquivos = [arquivo for arquivo in os.listdir(diretorio) if os.path.isfile(os.path.join(diretorio, arquivo))]\n",
    "    arquivos = sorted(arquivos)\n",
    "    \n",
    "    for arquivo in arquivos:\n",
    "        posicao = arquivo.find('.ipynb_checkpoints')\n",
    "        if (posicao != 0):\n",
    "            # abrir arquivo\n",
    "            X_y = stream.iter_csv(diretorio + \"/\" + arquivo, delimiter=',', fieldnames=colunas)\n",
    "            for x, y in X_y:\n",
    "                res = x.__len__()\n",
    "                if res > 0:\n",
    "                    hh = hh.update(x[nome_coluna])\n",
    "                    if hh._n % hh._bucket_width == 0:\n",
    "                        data_obj = datetime.strptime(x['DateTime'], '%Y%m%d%H%M%S')\n",
    "                        most_common_iter_a = hh.most_common(5)\n",
    "                        data = x['DateTime']\n",
    "                        df_new_row = pd.DataFrame(most_common_iter_a, columns=['ANumber', 'Count'])\n",
    "                        df_new_row['DateTime'] = data\n",
    "                        df_new_row['Window'] = window\n",
    "                        # Excluindo colunas vazias ou todas NA do df_new_row antes de concatenar\n",
    "                        df_new_row = df_new_row.dropna(axis=1, how='all')\n",
    "                        df_bucket_a = pd.concat([df_bucket_a, df_new_row], axis = 0)\n",
    "                        window += 1\n",
    "                        #hh = sketch.HeavyHitters(fading_factor=1, epsilon=0.00025, support=0.00025)\n",
    "else:\n",
    "    print(\"The directory does not exist.\")"
   ]
  },
  {
   "cell_type": "code",
   "execution_count": null,
   "metadata": {},
   "outputs": [],
   "source": [
    "print(df_bucket_a)"
   ]
  },
  {
   "cell_type": "code",
   "execution_count": null,
   "metadata": {
    "ExecuteTime": {
     "end_time": "2024-03-04T14:34:50.935706Z",
     "start_time": "2024-03-04T14:34:50.624783Z"
    },
    "collapsed": false,
    "jupyter": {
     "outputs_hidden": false
    }
   },
   "outputs": [],
   "source": [
    "# Top 10 - Mais comuns por janela\n",
    "#print(df_bucket_a)\n",
    "\n",
    "# Salvar DataFrame como arquivo CSV incluindo índices\n",
    "df_bucket_a.to_csv('/home/paula/ecml2024/results_centralized/result_data_june_4000_updated.csv', index=False)"
   ]
  },
  {
   "cell_type": "code",
   "execution_count": null,
   "metadata": {},
   "outputs": [],
   "source": [
    "from submit_email import send_email\n",
    "window = 4000\n",
    "send_email(\"centralized lossy counting JUNE\" + \" \" + str(window))"
   ]
  },
  {
   "cell_type": "code",
   "execution_count": null,
   "metadata": {},
   "outputs": [],
   "source": []
  }
 ],
 "metadata": {
  "kernelspec": {
   "display_name": "Python 3 (ipykernel)",
   "language": "python",
   "name": "python3"
  },
  "language_info": {
   "codemirror_mode": {
    "name": "ipython",
    "version": 3
   },
   "file_extension": ".py",
   "mimetype": "text/x-python",
   "name": "python",
   "nbconvert_exporter": "python",
   "pygments_lexer": "ipython3",
   "version": "3.10.12"
  }
 },
 "nbformat": 4,
 "nbformat_minor": 4
}
